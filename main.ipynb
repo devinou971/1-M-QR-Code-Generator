{
 "cells": [
  {
   "cell_type": "markdown",
   "metadata": {},
   "source": [
    "# QR Code generator\n",
    "\n",
    "This is a tool I created to challenge myself in coding. \n",
    "\n",
    "My goal was to create a \"Hello world\" QR Code from scratch. \\\n",
    "So in the current version, this generator only support QR code version 1 with the M error correction level. \\\n",
    "This is far from being the most efficient code, and I am opened for critiques if you have some. \n",
    "\n",
    "Perhaps I will update it in the future to support the other 39 version. \n",
    "\n",
    "Everything up to the Module placement phase was created only with functions baked in Python 3.12. \\\n",
    "I had to abandon this idea when I started to place the pixels for the final image. \\\n",
    "There was just no way I was doing matrix operations without numpy and scipy. \\\n",
    "The requirement for matplotlib is quite obvious. \n",
    "\n",
    "To build this project 2 website were extremly useful and completed each other in some aspects : \n",
    "- [Thonky.com](https://www.thonky.com/qr-code-tutorial/) has an amazing tutorial to understand the process and the math behind QR codes.\n",
    "- [Project Nayuki](https://www.nayuki.io/page/creating-a-qr-code-step-by-step) has a QR code generator that explains all the step to get of the final product.\n",
    "\n",
    "\n",
    "This project was structured is several phases :\n",
    "\n",
    "- [Static values](#static-values)\n",
    "- [Data analysis](#data-analysis)\n",
    "- [Data encoding](#data-encoding)\n",
    "- [Error correction coding](#error-correction-coding)\n",
    "- [Setting up the data structure](#data-structure)\n",
    "- [Module placement in matrix](#module-placement-in-matrix)\n",
    "- [Data masking](#data-masking)\n",
    "- [Final result](#final-result)"
   ]
  },
  {
   "cell_type": "code",
   "execution_count": 117,
   "metadata": {},
   "outputs": [],
   "source": [
    "import itertools\n",
    "import matplotlib.pyplot as plt\n",
    "import numpy as np\n",
    "from scipy.signal import correlate2d, convolve2d\n",
    "from json import loads\n",
    "import copy"
   ]
  },
  {
   "cell_type": "markdown",
   "metadata": {},
   "source": [
    "## Static values\n",
    "\n",
    "In this section, I just define some variables and functions that will be used later into the code"
   ]
  },
  {
   "cell_type": "code",
   "execution_count": 118,
   "metadata": {},
   "outputs": [],
   "source": [
    "text = \"Hello world!\"\n",
    "\n",
    "\n",
    "qr_code_infos = {\n",
    "    \"1-M\" : {\n",
    "        \"Size\": 21,\n",
    "        \"Total Number of Data Codewords for this Version and EC Level\":16,\n",
    "        \"EC Codewords Per Block\" : 10,\n",
    "        \"Number of Blocks in Group 1\" : 1,\n",
    "        \"Number of Data Codewords in Each of Group 1's Blocks\": 16,\n",
    "        \"Number of Blocks in Group 2\": 0,\n",
    "        \"Number of Data Codewords in Each of Group 2's Blocks\" : 0,\n",
    "        \"Number of bits for character count\" : 8,\n",
    "    }\n",
    "}\n",
    "\n",
    "encoding_modes =  {\n",
    "    \"bytes\" : \"0100\"\n",
    "}\n",
    "\n",
    "format_information_strings = []\n",
    "with open(\"format_information_strings.json\", \"r\") as file:\n",
    "    format_information_strings = loads(file.read())\n"
   ]
  },
  {
   "cell_type": "code",
   "execution_count": 119,
   "metadata": {},
   "outputs": [],
   "source": [
    "def show_matrix(matrix, title:str = None):\n",
    "    matrix_size = matrix.shape[0]\n",
    "    fig = plt.figure()\n",
    "    fig.suptitle(title)\n",
    "    plt.imshow(matrix)\n",
    "\n",
    "    ax = plt.gca()\n",
    "    ax.set_xticks(np.arange(0, matrix_size, 1))\n",
    "    ax.set_yticks(np.arange(0, matrix_size, 1))\n",
    "\n",
    "    # Minor ticks\n",
    "    ax.set_xticks(np.arange(-.5, matrix_size, 1), minor=True)\n",
    "    ax.set_yticks(np.arange(-.5, matrix_size, 1), minor=True)\n",
    "\n",
    "\n",
    "    # Gridlines based on minor ticks\n",
    "    ax.grid(which='minor', color='w', linestyle='-', linewidth=1)\n",
    "\n",
    "    # Remove minor ticks\n",
    "    ax.tick_params(which='minor', bottom=False, left=False)\n",
    "\n",
    "\n",
    "def show_final_result(matrix):\n",
    "    matrix_size = matrix.shape[0]\n",
    "    bigger_matrix = np.ones((matrix_size+6, matrix_size+6))\n",
    "    bigger_matrix[3:matrix_size+3, 3:matrix_size+3] = matrix\n",
    "\n",
    "    fig = plt.figure()\n",
    "    plt.imshow(bigger_matrix)"
   ]
  },
  {
   "cell_type": "markdown",
   "metadata": {},
   "source": [
    "## Data Analysis\n",
    "\n",
    "Here, has this is a \"Hello world\" example, I decided myself on which version of QR code to use. \\\n",
    "I use QR code V1 (21x21). \\\n",
    "The text will be encoded with ISO-8859-1. \\\n",
    "The error correction level will be 15% (M)\n",
    "\n",
    "Knowing all this info, the QR code will be able to handle 16 bytes of data.\n"
   ]
  },
  {
   "cell_type": "code",
   "execution_count": 120,
   "metadata": {},
   "outputs": [],
   "source": [
    "version = \"1-M\"\n",
    "\n",
    "number_of_data_bytes = qr_code_infos[version][\"Total Number of Data Codewords for this Version and EC Level\"]\n",
    "number_of_bits_to_reach = number_of_data_bytes * 8\n",
    "number_of_bits_for_character_count = qr_code_infos[version][\"Number of bits for character count\"]\n",
    "\n",
    "mode_indicator = encoding_modes[\"bytes\"] # mode indicator for bytes\n",
    "\n"
   ]
  },
  {
   "cell_type": "markdown",
   "metadata": {},
   "source": [
    "# Data encoding\n",
    "\n",
    "Now we encode the text, and create the full data phrase by adding the different parts : \n",
    "- The mode indicator (Mode = bytes in this instance)\n",
    "- The number of characters\n",
    "- The encoded text\n",
    "- The data trailer\n",
    "- The eventual padding in bit number % 8 <> 0\n",
    "- And some more padding to fill the data bytes. "
   ]
  },
  {
   "cell_type": "code",
   "execution_count": 121,
   "metadata": {},
   "outputs": [
    {
     "name": "stdout",
     "output_type": "stream",
     "text": [
      "0100 - Mode Indicator\n",
      "010000001100 - Added Character Count\n",
      "010000001100010010000110010101101100011011000110111100100000011101110110111101110010011011000110010000100001 - Added Binary phrase\n",
      "0100000011000100100001100101011011000110110001101111001000000111011101101111011100100110110001100100001000010000 - Added trailer\n",
      "0100000011000100100001100101011011000110110001101111001000000111011101101111011100100110110001100100001000010000 - Added zeros padding\n",
      "01000000110001001000011001010110110001101100011011110010000001110111011011110111001001101100011001000010000100001110110000010001 - Added bytes padding\n",
      "128\n"
     ]
    }
   ],
   "source": [
    "print(mode_indicator, \"- Mode Indicator\")\n",
    "\n",
    "\n",
    "# 1st step : encoding the character count\n",
    "character_count = bin(len(text))[2:]\n",
    "character_count = \"0\"*(number_of_bits_for_character_count-len(character_count)) + character_count\n",
    "print(mode_indicator + character_count, \"- Added Character Count\")\n",
    "\n",
    "# 2nd step : encoding the text\n",
    "\n",
    "encoded_text = text.encode(\"iso-8859-1\") \n",
    "\n",
    "phrase_binary = \"\"\n",
    "for byte in encoded_text:\n",
    "    letter_binary = bin(byte)[2:]\n",
    "    letter_binary = \"0\"*(8-len(letter_binary)) + letter_binary\n",
    "    phrase_binary += letter_binary\n",
    "\n",
    "print(mode_indicator + character_count + phrase_binary, \"- Added Binary phrase\")\n",
    "\n",
    "# 3rd step : adding the trailer\n",
    "\n",
    "trailer = \"\"\n",
    "if len(mode_indicator) + len(character_count) + len(phrase_binary) < number_of_bits_to_reach:\n",
    "    trailer = (\"0\"*(number_of_bits_to_reach-len(phrase_binary)))[:4]\n",
    "\n",
    "print(mode_indicator + character_count + phrase_binary + trailer, \"- Added trailer\")\n",
    "\n",
    "# 4th step : Adding a padding of 0 if the length is not divisible by 8\n",
    "zeros_padding = \"\"\n",
    "while (len(mode_indicator) + len(character_count) + len(phrase_binary) + len(trailer) + len(zeros_padding)) % 8 != 0:\n",
    "    zeros_padding += \"0\" \n",
    "\n",
    "print(mode_indicator + character_count + phrase_binary + trailer + zeros_padding, \"- Added zeros padding\")\n",
    "\n",
    "# 5th step : if the length does not fill the full data bits, we add more padding  \n",
    "allowed_padding_bytes = [\"11101100\", \"00010001\"]\n",
    "padding_bytes = \"\"\n",
    "alpha_exponent = 0\n",
    "while len(mode_indicator) + len(character_count) + len(phrase_binary) + len(trailer) + len(zeros_padding) + len(padding_bytes) < number_of_bits_to_reach:\n",
    "    padding_bytes += allowed_padding_bytes[alpha_exponent%2]\n",
    "    alpha_exponent+=1\n",
    "\n",
    "data_phrase = mode_indicator+character_count+phrase_binary + trailer + zeros_padding + padding_bytes\n",
    "\n",
    "print(data_phrase, \"- Added bytes padding\")\n",
    "print(len(data_phrase))\n",
    "\n"
   ]
  },
  {
   "cell_type": "markdown",
   "metadata": {},
   "source": [
    "## Error Correction Coding\n",
    "\n",
    "The goal of this step is to create the error codes for our data bytes. \n",
    "\n",
    "The first step is to split the message codewords into groups"
   ]
  },
  {
   "cell_type": "code",
   "execution_count": 122,
   "metadata": {},
   "outputs": [
    {
     "name": "stdout",
     "output_type": "stream",
     "text": [
      "[['01000000', '11000100', '10000110', '01010110', '11000110', '11000110', '11110010', '00000111', '01110110', '11110111', '00100110', '11000110', '01000010', '00010000', '11101100', '00010001']]\n",
      "[[]]\n"
     ]
    }
   ],
   "source": [
    "codewords = [data_phrase[i-8:i] for i in range(8, number_of_bits_to_reach+8, 8)]\n",
    "\n",
    "group1 = []\n",
    "\n",
    "number_of_blocks_group1 = qr_code_infos[version][\"Number of Blocks in Group 1\"]\n",
    "number_of_codewords_in_block_group1 = qr_code_infos[version][\"Number of Data Codewords in Each of Group 1\\'s Blocks\"]\n",
    "for alpha_exponent in range(number_of_blocks_group1):\n",
    "    block = codewords[alpha_exponent*number_of_codewords_in_block_group1:(alpha_exponent+1)*number_of_codewords_in_block_group1]\n",
    "    group1.append(block)\n",
    "    \n",
    "\n",
    "group2 = []\n",
    "group1_offset = number_of_blocks_group1 * number_of_codewords_in_block_group1\n",
    "\n",
    "number_of_blocks_group2 = qr_code_infos[version][\"Number of Blocks in Group 1\"]\n",
    "number_of_codewords_in_block_group2 = qr_code_infos[version][\"Number of Data Codewords in Each of Group 1\\'s Blocks\"]\n",
    "for alpha_exponent in range(number_of_blocks_group2):\n",
    "    block = codewords[group1_offset+alpha_exponent*number_of_codewords_in_block_group2:group1_offset+(alpha_exponent+1)*number_of_codewords_in_block_group2]\n",
    "    group2.append(block)\n",
    "\n",
    "\n",
    "print(group1)\n",
    "print(group2)\n"
   ]
  },
  {
   "cell_type": "markdown",
   "metadata": {},
   "source": [
    "The second step is to generate the generator polynomial for our specific QR code version\n",
    "\n",
    "---\n",
    "\n",
    "Here, I'm just storing the antilog table for galoi fields (found [here](https://www.thonky.com/qr-code-tutorial/log-antilog-table) ).\n",
    "\n",
    "So, in the Galois field:\n",
    "\n",
    "2^0 = 1\\\n",
    "2^1 = 2\\\n",
    "...\\\n",
    "2^8 = 232\\\n",
    "2^9 = 205\n",
    "\n",
    "For more info on how to generate this by hand, look [here](https://www.thonky.com/qr-code-tutorial/error-correction-coding#step-3-understand-the-galois-field) "
   ]
  },
  {
   "cell_type": "code",
   "execution_count": 123,
   "metadata": {},
   "outputs": [],
   "source": [
    "antilog_table = [1,2,4,8,16,32,64,128,29,58,116,232,205,135,19,38,76,152,45,90,180,117,234,201,143,3,6,12,24,48,96,192,157,39,78,156,37,74,148,53,106,212,181,119,238,193,159,35,70,140,5,10,20,40,80,160,93,186,105,210,185,111,222,161,95,190,97,194,153,47,94,188,101,202,137,15,30,60,120,240,253,231,211,187,107,214,177,127,254,225,223,163,91,182,113,226,217,175,67,134,17,34,68,136,13,26,52,104,208,189,103,206,129,31,62,124,248,237,199,147,59,118,236,197,151,51,102,204,133,23,46,92,184,109,218,169,79,158,33,66,132,21,42,84,168,77,154,41,82,164,85,170,73,146,57,114,228,213,183,115,230,209,191,99,198,145,63,126,252,229,215,179,123,246,241,255,227,219,171,75,150,49,98,196,149,55,110,220,165,87,174,65,130,25,50,100,200,141,7,14,28,56,112,224,221,167,83,166,81,162,89,178,121,242,249,239,195,155,43,86,172,69,138,9,18,36,72,144,61,122,244,245,247,243,251,235,203,139,11,22,44,88,176,125,250,233,207,131,27,54,108,216,173,71,142,1]\n"
   ]
  },
  {
   "cell_type": "markdown",
   "metadata": {},
   "source": [
    "To do the necessary math with generator polynomial and the message polynomial, I represent them as lists in 2 different ways.\n",
    "\n",
    "---\n",
    "\n",
    "The first way is to represent the polynomial in a list where the index is he exponent of x  and the value is the coefficient.\n",
    "\n",
    "For example the polynomial : \\\n",
    "5 * x^4 + 7 * x^3 + 0 * x^2 + 6 * x^1 + 2\n",
    "\n",
    "Will be represented like this : \\\n",
    "[2, 6, 0, 7, 5]\n",
    "\n",
    "---\n",
    "\n",
    "The second way is when polynomial coefficients are represented as powers of 2 in the galois field. \n",
    "\n",
    "For example the polynomial : \\\n",
    "8 * x^4 + 16 * x^3 + 4 * x^2 + 32 * x^1 + 0\n",
    "\n",
    "If we represent the coefficients as powers of 2 : \\\n",
    "2^3 * x^4 + 2^4 * x^3 + 2^2 * x^2 + 2^5 * x^1 + 0\n",
    "\n",
    "This will be represented as : \\\n",
    "[null, 5, 2, 4, 3]\n",
    "\n",
    "\n",
    "Then we just do the math discussed the guide."
   ]
  },
  {
   "cell_type": "code",
   "execution_count": 124,
   "metadata": {},
   "outputs": [],
   "source": [
    "number_of_ec = 7\n",
    "\n",
    "def get_generator_polynomial(number_of_error_codewords):\n",
    "    # Creating the generator polynomial\n",
    "    generator_n = [0, 0] # Representation of the generator polynomial n. Equivalent to a^0*x^1-a^0*x^0 -> We take the exponent of a, and the exponent of x is symbolized by the position in the list\n",
    "\n",
    "    for n in range(2, number_of_error_codewords+1):\n",
    "        base = [n-1, 0] # Equivalent to a^0*x^1-a^1*x^0 -> We take the exponent of a, and the exponent of x is symbolized by the position in the list\n",
    "\n",
    "        multiplication_of_x = generator_n.copy() \n",
    "        multiplication_of_x.insert(0, None)# .append(None) # As if we did a^0*x^1 (from the base) * (a^0*x^1-a^0*x^0) (from the generator n-1)\n",
    "\n",
    "        multriplication_of_exponent = [i+base[0] for i in generator_n] \n",
    "        multriplication_of_exponent.append(0) # As if we did \n",
    "\n",
    "        generator_polynomial_n_plus_1 = []\n",
    "\n",
    "        for n1, n2 in zip(multiplication_of_x,multriplication_of_exponent):\n",
    "            if n1 is None : \n",
    "                generator_polynomial_n_plus_1.append(n2)\n",
    "                continue\n",
    "            value1 = antilog_table[n1%255]\n",
    "            value2 = antilog_table[n2%255]\n",
    "\n",
    "            result_xor = value1 ^ value2\n",
    "\n",
    "            if result_xor == 0:\n",
    "                generator_polynomial_n_plus_1.append(0)\n",
    "            else : \n",
    "                exponent = antilog_table.index(result_xor)\n",
    "                generator_polynomial_n_plus_1.append(exponent)\n",
    "\n",
    "        generator_n = generator_polynomial_n_plus_1\n",
    "    return generator_n\n",
    "\n",
    "generator_polynomial_alpha=get_generator_polynomial(qr_code_infos[version][\"EC Codewords Per Block\"])\n",
    "\n"
   ]
  },
  {
   "cell_type": "markdown",
   "metadata": {},
   "source": [
    "Then we generate the error codewords for each blocks "
   ]
  },
  {
   "cell_type": "code",
   "execution_count": 125,
   "metadata": {},
   "outputs": [
    {
     "name": "stdout",
     "output_type": "stream",
     "text": [
      "\n",
      "Step 1\n",
      "Generator polynomial (alpha) [None, None, None, None, None, None, None, None, None, None, None, None, None, None, None, 45, 32, 94, 64, 70, 118, 61, 46, 67, 251, 0]\n",
      "Message polynomial (alpha) [None, None, None, None, None, None, None, None, None, None, 100, 122, 4, 139, 164, 15, 232, 121, 198, 213, 164, 164, 219, 99, 183, 6]\n",
      "First multiplication (alpha) [None, None, None, None, None, None, None, None, None, None, None, None, None, None, None, 51, 38, 100, 70, 76, 124, 67, 52, 73, 2, 6]\n",
      "XOR result (numeric) [0, 0, 0, 0, 0, 0, 0, 0, 0, 0, 17, 236, 16, 66, 198, 44, 99, 103, 89, 236, 81, 4, 66, 76, 192]\n",
      "\n",
      "Step 2\n",
      "Generator polynomial (alpha) [None, None, None, None, None, None, None, None, None, None, None, None, None, None, 45, 32, 94, 64, 70, 118, 61, 46, 67, 251, 0]\n",
      "Message polynomial (alpha) [None, None, None, None, None, None, None, None, None, None, 100, 122, 4, 139, 164, 240, 163, 110, 210, 122, 208, 2, 139, 16, 31]\n",
      "First multiplication (alpha) [None, None, None, None, None, None, None, None, None, None, None, None, None, None, 76, 63, 125, 95, 101, 149, 92, 77, 98, 27, 31]\n",
      "XOR result (numeric) [0, 0, 0, 0, 0, 0, 0, 0, 0, 0, 17, 236, 16, 66, 216, 141, 80, 133, 123, 72, 10, 56, 1, 64]\n",
      "\n",
      "Step 3\n",
      "Generator polynomial (alpha) [None, None, None, None, None, None, None, None, None, None, None, None, None, 45, 32, 94, 64, 70, 118, 61, 46, 67, 251, 0]\n",
      "Message polynomial (alpha) [None, None, None, None, None, None, None, None, None, None, 100, 122, 4, 139, 251, 197, 54, 128, 172, 226, 51, 201, 0, 6]\n",
      "First multiplication (alpha) [None, None, None, None, None, None, None, None, None, None, None, None, None, 51, 38, 100, 70, 76, 124, 67, 52, 73, 2, 6]\n",
      "XOR result (numeric) [0, 0, 0, 0, 0, 0, 0, 0, 0, 0, 17, 236, 16, 72, 76, 156, 14, 155, 236, 138, 30, 242, 5]\n",
      "\n",
      "Step 4\n",
      "Generator polynomial (alpha) [None, None, None, None, None, None, None, None, None, None, None, None, 45, 32, 94, 64, 70, 118, 61, 46, 67, 251, 0]\n",
      "Message polynomial (alpha) [None, None, None, None, None, None, None, None, None, None, 100, 122, 4, 226, 16, 35, 199, 217, 122, 222, 76, 213, 50]\n",
      "First multiplication (alpha) [None, None, None, None, None, None, None, None, None, None, None, None, 95, 82, 144, 114, 120, 168, 111, 96, 117, 46, 50]\n",
      "XOR result (numeric) [0, 0, 0, 0, 0, 0, 0, 0, 0, 0, 17, 236, 242, 155, 228, 162, 53, 103, 34, 83, 243, 109]\n",
      "\n",
      "Step 5\n",
      "Generator polynomial (alpha) [None, None, None, None, None, None, None, None, None, None, None, 45, 32, 94, 64, 70, 118, 61, 46, 67, 251, 0]\n",
      "Message polynomial (alpha) [None, None, None, None, None, None, None, None, None, None, 100, 122, 213, 217, 156, 209, 39, 110, 101, 206, 233, 133]\n",
      "First multiplication (alpha) [None, None, None, None, None, None, None, None, None, None, None, 178, 165, 227, 197, 203, 251, 194, 179, 200, 129, 133]\n",
      "XOR result (numeric) [0, 0, 0, 0, 0, 0, 0, 0, 0, 0, 17, 71, 99, 11, 105, 66, 237, 85, 105, 79, 228]\n",
      "\n",
      "Step 6\n",
      "Generator polynomial (alpha) [None, None, None, None, None, None, None, None, None, None, 45, 32, 94, 64, 70, 118, 61, 46, 67, 251, 0]\n",
      "Message polynomial (alpha) [None, None, None, None, None, None, None, None, None, None, 100, 253, 163, 238, 58, 139, 117, 150, 58, 136, 156]\n",
      "First multiplication (alpha) [None, None, None, None, None, None, None, None, None, None, 201, 188, 250, 220, 226, 19, 217, 202, 223, 152, 156]\n",
      "XOR result (numeric) [0, 0, 0, 0, 0, 0, 0, 0, 0, 0, 41, 226, 15, 167, 33, 24, 118, 37, 96, 6]\n",
      "\n",
      "Step 7\n",
      "Generator polynomial (alpha) [None, None, None, None, None, None, None, None, None, 45, 32, 94, 64, 70, 118, 61, 46, 67, 251, 0]\n",
      "Message polynomial (alpha) [None, None, None, None, None, None, None, None, None, None, 147, 95, 75, 205, 138, 28, 121, 36, 30, 26]\n",
      "First multiplication (alpha) [None, None, None, None, None, None, None, None, None, 71, 58, 120, 90, 96, 144, 87, 72, 93, 22, 26]\n",
      "XOR result (numeric) [0, 0, 0, 0, 0, 0, 0, 0, 0, 188, 64, 217, 208, 126, 137, 103, 19, 147, 138]\n",
      "\n",
      "Step 8\n",
      "Generator polynomial (alpha) [None, None, None, None, None, None, None, None, 45, 32, 94, 64, 70, 118, 61, 46, 67, 251, 0]\n",
      "Message polynomial (alpha) [None, None, None, None, None, None, None, None, None, 71, 6, 96, 108, 167, 74, 110, 14, 119, 222]\n",
      "First multiplication (alpha) [None, None, None, None, None, None, None, None, 12, 254, 61, 31, 37, 85, 28, 13, 34, 218, 222]\n",
      "XOR result (numeric) [0, 0, 0, 0, 0, 0, 0, 0, 205, 50, 47, 25, 154, 168, 145, 224, 93, 184]\n",
      "\n",
      "Step 9\n",
      "Generator polynomial (alpha) [None, None, None, None, None, None, None, 45, 32, 94, 64, 70, 118, 61, 46, 67, 251, 0]\n",
      "Message polynomial (alpha) [None, None, None, None, None, None, None, None, 12, 194, 69, 193, 146, 144, 165, 203, 56, 132]\n",
      "First multiplication (alpha) [None, None, None, None, None, None, None, 177, 164, 226, 196, 202, 250, 193, 178, 199, 128, 132]\n",
      "XOR result (numeric) [0, 0, 0, 0, 0, 0, 0, 219, 11, 122, 231, 105, 246, 177, 58, 238, 216]\n",
      "\n",
      "Step 10\n",
      "Generator polynomial (alpha) [None, None, None, None, None, None, 45, 32, 94, 64, 70, 118, 61, 46, 67, 251, 0]\n",
      "Message polynomial (alpha) [None, None, None, None, None, None, None, 177, 238, 229, 81, 58, 173, 86, 9, 44, 251]\n",
      "First multiplication (alpha) [None, None, None, None, None, None, 41, 28, 90, 60, 66, 114, 57, 42, 63, 247, 251]\n",
      "XOR result (numeric) [0, 0, 0, 0, 0, 0, 212, 195, 212, 195, 134, 87, 76, 4, 155, 109]\n",
      "\n",
      "Step 11\n",
      "Generator polynomial (alpha) [None, None, None, None, None, 45, 32, 94, 64, 70, 118, 61, 46, 67, 251, 0]\n",
      "Message polynomial (alpha) [None, None, None, None, None, None, 41, 216, 41, 216, 99, 189, 16, 2, 217, 133]\n",
      "First multiplication (alpha) [None, None, None, None, None, 178, 165, 227, 197, 203, 251, 194, 179, 200, 129, 133]\n",
      "XOR result (numeric) [0, 0, 0, 0, 0, 171, 69, 83, 89, 35, 94, 101, 7, 24, 140]\n",
      "\n",
      "Step 12\n",
      "Generator polynomial (alpha) [None, None, None, None, 45, 32, 94, 64, 70, 118, 61, 46, 67, 251, 0]\n",
      "Message polynomial (alpha) [None, None, None, None, None, 178, 221, 206, 210, 47, 70, 72, 198, 28, 49]\n",
      "First multiplication (alpha) [None, None, None, None, 94, 81, 143, 113, 119, 167, 110, 95, 116, 45, 49]\n",
      "XOR result (numeric) [0, 0, 0, 0, 113, 76, 17, 76, 202, 93, 57, 135, 255, 217]\n",
      "\n",
      "Step 13\n",
      "Generator polynomial (alpha) [None, None, None, 45, 32, 94, 64, 70, 118, 61, 46, 67, 251, 0]\n",
      "Message polynomial (alpha) [None, None, None, None, 94, 16, 100, 16, 73, 56, 154, 13, 175, 96]\n",
      "First multiplication (alpha) [None, None, None, 141, 128, 190, 160, 166, 214, 157, 142, 163, 92, 96]\n",
      "XOR result (numeric) [0, 0, 0, 21, 244, 226, 247, 115, 51, 136, 19, 228, 164]\n",
      "\n",
      "Step 14\n",
      "Generator polynomial (alpha) [None, None, 45, 32, 94, 64, 70, 118, 61, 46, 67, 251, 0]\n",
      "Message polynomial (alpha) [None, None, None, 141, 230, 95, 232, 159, 125, 103, 14, 156, 149]\n",
      "First multiplication (alpha) [None, None, 194, 181, 243, 213, 219, 12, 210, 195, 216, 145, 149]\n",
      "XOR result (numeric) [0, 0, 50, 36, 137, 16, 161, 190, 106, 236, 208, 169]\n",
      "\n",
      "Step 15\n",
      "Generator polynomial (alpha) [None, 45, 32, 94, 64, 70, 118, 61, 46, 67, 251, 0]\n",
      "Message polynomial (alpha) [None, None, 194, 225, 74, 4, 63, 65, 40, 122, 108, 135]\n",
      "First multiplication (alpha) [None, 180, 167, 229, 199, 205, 253, 196, 181, 202, 131, 135]\n",
      "XOR result (numeric) [0, 150, 76, 94, 135, 183, 230, 118, 91, 156, 140]\n",
      "\n",
      "Step 16\n",
      "Generator polynomial (alpha) [45, 32, 94, 64, 70, 118, 61, 46, 67, 251, 0]\n",
      "Message polynomial (alpha) [None, 180, 16, 70, 13, 158, 160, 121, 92, 35, 49]\n",
      "First multiplication (alpha) [94, 81, 143, 113, 119, 167, 110, 95, 116, 45, 49]\n",
      "XOR result (numeric) [113, 113, 24, 65, 20, 201, 129, 148, 163, 93]\n",
      "Error codewords: [93, 163, 148, 129, 201, 20, 65, 24, 113, 113]\n",
      "Binary version: ['01011101', '10100011', '10010100', '10000001', '11001001', '00010100', '01000001', '00011000', '01110001', '01110001']\n"
     ]
    }
   ],
   "source": [
    "def convert_from_alpha_to_numeric(poly_alpha: list[int]) -> list[int]:\n",
    "    poly_num = []\n",
    "    for alpha_exponent in poly_alpha:\n",
    "        if alpha_exponent is None:\n",
    "            poly_num.append(0)\n",
    "        else: \n",
    "            poly_num.append(antilog_table[alpha_exponent])\n",
    "    return poly_num\n",
    "\n",
    "def convert_from_numeric_to_alpha(poly_num: list[int]) -> list[int]:\n",
    "    poly_alpha = []\n",
    "    for numerical_value in poly_num:\n",
    "        if numerical_value == 0:\n",
    "            poly_alpha.append(None)\n",
    "        else:\n",
    "            poly_alpha.append(antilog_table.index(numerical_value))\n",
    "    return poly_alpha\n",
    "\n",
    "def get_error_correction_codewords(message_code_words: list[str], generator_polynomial_alpha: list[int], number_of_error_codes_needed: int, number_of_codewords_in_block:int):\n",
    "    # Converting the binary message codewords into numerical code words.\n",
    "    # That gives us the message polynomial\n",
    "    message_polynomial_numerical = []\n",
    "    for binary in message_code_words:\n",
    "        message_polynomial_numerical.append(int(binary,2))\n",
    "    message_polynomial_numerical.reverse()\n",
    "\n",
    "\n",
    "    # To get the right number of error codewords, we multiply the message polynomial by x^(number of error correction codewords that are needed)\n",
    "    for _ in range(number_of_error_codes_needed):\n",
    "        message_polynomial_numerical.insert(0, 0)\n",
    "\n",
    "    result_previous_step_numeric = message_polynomial_numerical\n",
    "\n",
    "    # Converting the message polynomial to aplha notation\n",
    "    result_previous_step_alpha = convert_from_numeric_to_alpha(result_previous_step_numeric)\n",
    "\n",
    "\n",
    "    for i in range(number_of_codewords_in_block):\n",
    "        print(\"\\nStep\", i+1)\n",
    "        # We make sure the generator polynomial has the exact same x exponent\n",
    "        if len(result_previous_step_alpha) > len(generator_polynomial_alpha):\n",
    "            generator_polynomial_alpha = [None] * (len(result_previous_step_alpha) - len(generator_polynomial_alpha)) + generator_polynomial_alpha\n",
    "        elif len(result_previous_step_alpha) < len(generator_polynomial_alpha):\n",
    "            generator_polynomial_alpha.pop(0)\n",
    "\n",
    "        print(\"Generator polynomial (alpha)\", generator_polynomial_alpha)\n",
    "        print(\"Message polynomial (alpha)\", result_previous_step_alpha)\n",
    "\n",
    "        # We multiply the generator polynomial by the first exponent of the message polynomial\n",
    "        multiplication_result_aplha = []\n",
    "        for j in generator_polynomial_alpha:\n",
    "            if j is None:\n",
    "                multiplication_result_aplha.append(None)\n",
    "            else:\n",
    "                multiplication_result_aplha.append((j+result_previous_step_alpha[-1])%255)\n",
    "\n",
    "        print(\"First multiplication (alpha)\", multiplication_result_aplha)\n",
    "\n",
    "        # We convert from alpha notation to numeric\n",
    "        multiplication_result_numeric = convert_from_alpha_to_numeric(multiplication_result_aplha)\n",
    "\n",
    "        # We XOR the message polynomial and the result from the previous sep\n",
    "        result_previous_step_numeric = convert_from_alpha_to_numeric(result_previous_step_alpha)\n",
    "        xor_numeric= []\n",
    "        for n1, n2 in zip(result_previous_step_numeric, multiplication_result_numeric):\n",
    "            xor_numeric.append(n1 ^ n2)\n",
    "\n",
    "\n",
    "        # We remove the leading zeros\n",
    "        for i in range(len(xor_numeric)-1, 0, -1):\n",
    "            if xor_numeric[i] == 0:\n",
    "                xor_numeric.pop(i)\n",
    "            else:\n",
    "                break\n",
    "\n",
    "        print(\"XOR result (numeric)\", xor_numeric)\n",
    "        \n",
    "        result_previous_step_alpha = convert_from_numeric_to_alpha(xor_numeric)\n",
    "\n",
    "    error_correction_codewords = xor_numeric\n",
    "    error_correction_codewords.reverse()\n",
    "    return error_correction_codewords\n",
    "\n",
    "error_code_words = get_error_correction_codewords(codewords, generator_polynomial_alpha, qr_code_infos[version][\"EC Codewords Per Block\"], qr_code_infos[version][\"Number of Data Codewords in Each of Group 1's Blocks\"])\n",
    "\n",
    "print(\"Error codewords:\", error_code_words)\n",
    "error_code_words_binary = []\n",
    "\n",
    "for ec in error_code_words:\n",
    "    binary_word = bin(ec).replace(\"0b\", '')\n",
    "    byte = \"0\" * (8-len(binary_word)) + binary_word\n",
    "    error_code_words_binary.append(byte)\n",
    "\n",
    "print(\"Binary version:\", error_code_words_binary)\n",
    "\n",
    "\n"
   ]
  },
  {
   "cell_type": "markdown",
   "metadata": {},
   "source": [
    "## Data structure\n",
    "\n",
    "As this is a version 1 QR code, for the data structure, we just need to concatenate the data codewords with the binary codewords."
   ]
  },
  {
   "cell_type": "code",
   "execution_count": 126,
   "metadata": {},
   "outputs": [],
   "source": [
    "full_data_bytes = codewords + error_code_words_binary\n",
    "\n"
   ]
  },
  {
   "cell_type": "markdown",
   "metadata": {},
   "source": [
    "## Module placement in matrix\n"
   ]
  },
  {
   "cell_type": "markdown",
   "metadata": {},
   "source": [
    "### Adding finder patterns"
   ]
  },
  {
   "cell_type": "code",
   "execution_count": 127,
   "metadata": {},
   "outputs": [],
   "source": [
    "matrix_size = qr_code_infos[version][\"Size\"]\n",
    "matrix = np.ones((matrix_size, matrix_size), dtype=np.uint8)\n",
    "\n",
    "\n",
    "def create_finder_pattern_at(matrix, x:int, y:int):\n",
    "    matrix[y, x:x+7] = 0\n",
    "    matrix[y:y+7, x] = 0\n",
    "    matrix[y:y+7, x+6] = 0\n",
    "    matrix[y+6, x:x+7] = 0\n",
    "\n",
    "    matrix[y+2:y+5, x+2:x+5] = 0\n",
    "\n",
    "    return matrix\n",
    "\n",
    "matrix = create_finder_pattern_at(matrix, 0, 0)\n",
    "matrix = create_finder_pattern_at(matrix, matrix_size-7, 0)\n",
    "matrix = create_finder_pattern_at(matrix, 0, matrix_size-7)\n",
    "\n",
    "show_matrix(matrix)"
   ]
  },
  {
   "cell_type": "markdown",
   "metadata": {},
   "source": [
    "### Adding the timing patterns"
   ]
  },
  {
   "cell_type": "code",
   "execution_count": 128,
   "metadata": {},
   "outputs": [],
   "source": [
    "def create_timing_patterns(matrix: np.ndarray):\n",
    "    matrix_size = matrix.shape[0]\n",
    "    matrix_copy = matrix.copy()\n",
    "    matrix_copy[6,8:matrix_size-8] = [i%2 for i in range(matrix_size-16)]\n",
    "    \n",
    "    matrix_copy[8:matrix_size-8,6] = matrix_copy[6,8:matrix_size-8].T\n",
    "    return matrix_copy\n",
    "\n",
    "matrix = create_timing_patterns(matrix)\n",
    "\n",
    "show_matrix(matrix)"
   ]
  },
  {
   "cell_type": "markdown",
   "metadata": {},
   "source": [
    "### Adding alignement patterns \n",
    "\n",
    "(skipped because not needed for 1-M)"
   ]
  },
  {
   "cell_type": "code",
   "execution_count": null,
   "metadata": {},
   "outputs": [],
   "source": []
  },
  {
   "cell_type": "markdown",
   "metadata": {},
   "source": [
    "### Adding the Dark module and reserved areas"
   ]
  },
  {
   "cell_type": "code",
   "execution_count": 129,
   "metadata": {},
   "outputs": [
    {
     "data": {
      "image/png": "[encoded data removed]",
      "text/plain": [
       "<Figure size 640x480 with 1 Axes>"
      ]
     },
     "metadata": {},
     "output_type": "display_data"
    }
   ],
   "source": [
    "matrix[matrix_size-8, 8] = 0\n",
    "\n",
    "reserved_areas_mask = np.ones_like(matrix, dtype=np.uint8)\n",
    "reserved_areas_mask[0:9, 0:9] = 0\n",
    "reserved_areas_mask[matrix_size-8:matrix_size, 0:9] = 0\n",
    "reserved_areas_mask[0:9, matrix_size-8:matrix_size] = 0\n",
    "\n",
    "reserved_areas_mask[:, 6] = 0\n",
    "reserved_areas_mask[6, :] = 0\n",
    "reserved_areas_mask[matrix_size-8, 8] = 0\n",
    "\n",
    "show_matrix(matrix)"
   ]
  },
  {
   "cell_type": "markdown",
   "metadata": {},
   "source": [
    "### Bit placement\n",
    "\n",
    "To place all the bits, I split the QR code into 4 sections, and I treated them each individualy\n",
    "\n",
    "\n",
    "<img src=\"images/QR_code_sections.png\" alt=\"drawing\" width=\"300\"/>\n",
    "\n"
   ]
  },
  {
   "cell_type": "code",
   "execution_count": 130,
   "metadata": {},
   "outputs": [],
   "source": [
    "full_phrase = \"\".join(full_data_bytes)\n",
    "np_full_phrase = np.array(list(full_phrase)).astype(np.uint8)"
   ]
  },
  {
   "cell_type": "code",
   "execution_count": 131,
   "metadata": {},
   "outputs": [
    {
     "name": "stdout",
     "output_type": "stream",
     "text": [
      "[0 1 0 0 0 0 0 1 0 0 0 1 1 0 0 0 0 1 1 1 0 0 0 1 0 1 1 1 0 0 0 1]\n"
     ]
    },
    {
     "data": {
      "image/png": "[encoded data removed]",
      "text/plain": [
       "<Figure size 640x480 with 1 Axes>"
      ]
     },
     "metadata": {},
     "output_type": "display_data"
    },
    {
     "data": {
      "image/png": "[encoded data removed]",
      "text/plain": [
       "<Figure size 640x480 with 1 Axes>"
      ]
     },
     "metadata": {},
     "output_type": "display_data"
    },
    {
     "data": {
      "image/png": "[encoded data removed]",
      "text/plain": [
       "<Figure size 640x480 with 1 Axes>"
      ]
     },
     "metadata": {},
     "output_type": "display_data"
    },
    {
     "data": {
      "image/png": "[encoded data removed]",
      "text/plain": [
       "<Figure size 640x480 with 1 Axes>"
      ]
     },
     "metadata": {},
     "output_type": "display_data"
    }
   ],
   "source": [
    "# Section 1\n",
    "\n",
    "rows_for_section = matrix_size - 9\n",
    "flipped_matrix = np.flip(matrix)\n",
    "bytes = full_data_bytes.copy()\n",
    "nb_bits_section1 = rows_for_section * 8\n",
    "nb_writen_bits = 0\n",
    "\n",
    "for c in range(4):\n",
    "    descending_column = c % 2 != 0\n",
    "    reversed_bits = ((np_full_phrase[c*rows_for_section*2:(c+1)*rows_for_section*2] + 1) % 2)\n",
    "    if not descending_column :\n",
    "        flipped_matrix[0:rows_for_section, c*2:(c+1)*2] = reversed_bits.reshape((rows_for_section, 2))\n",
    "    else : \n",
    "        flipped_matrix[0:rows_for_section, c*2:(c+1)*2] = np.flip(reversed_bits.reshape((rows_for_section, 2)), 0)\n",
    "    nb_writen_bits += len(reversed_bits)\n",
    "\n",
    "show_matrix(matrix, \"Section 1 full\")\n",
    "# Section 2\n",
    "\n",
    "np_phrase_section2 = np_full_phrase[nb_writen_bits:]\n",
    "rows_for_section = 20\n",
    "\n",
    "for c in range(2):\n",
    "    descending_column = c % 2 != 0\n",
    "\n",
    "    rows_lower_section = matrix_size - 7\n",
    "    rows_upper_section = 6\n",
    "\n",
    "    reversed_bits = ((np_phrase_section2[c*rows_for_section*2:(c+1)*rows_for_section*2] + 1) % 2)\n",
    "\n",
    "    bits_small_upper_section = rows_lower_section * 2\n",
    "\n",
    "    if not descending_column :\n",
    "        flipped_matrix[0:rows_lower_section, c*2+8:(c+1)*2+8] = reversed_bits[0:bits_small_upper_section].reshape((rows_lower_section, 2))\n",
    "        flipped_matrix[rows_lower_section+1:rows_lower_section+1+rows_upper_section, c*2+8:(c+1)*2+8] = reversed_bits[bits_small_upper_section:].reshape((rows_upper_section, 2))\n",
    "\n",
    "    else : \n",
    "        flipped_matrix[rows_lower_section+1:rows_lower_section+1+rows_upper_section, c*2+8:(c+1)*2+8] = np.flip(reversed_bits[0:12].reshape((rows_upper_section, 2)), 0)\n",
    "        flipped_matrix[0:rows_lower_section, c*2+8:(c+1)*2+8] = np.flip(reversed_bits[12:].reshape((rows_lower_section, 2)), 0)\n",
    "\n",
    "    nb_writen_bits += len(reversed_bits)\n",
    "\n",
    "show_matrix(matrix, \"Section 2 full\")\n",
    "\n",
    "\n",
    "# Section 3\n",
    "# That's an ascending column - ALWAYS\n",
    "\n",
    "np_phrase_section3 = np_full_phrase[nb_writen_bits:]\n",
    "print(np_phrase_section3)\n",
    "\n",
    "reversed_bits = ((np_phrase_section3[:(matrix_size-17)*2] + 1) % 2)\n",
    "\n",
    "flipped_matrix[8:matrix_size-9, matrix_size-9 :matrix_size-7] = np.flip(reversed_bits.reshape((matrix_size-17,2)), 0)\n",
    "\n",
    "nb_writen_bits += len(reversed_bits)\n",
    "\n",
    "show_matrix(matrix, \"Section 3 full\")\n",
    "\n",
    "# Section 4\n",
    "# The first column is descending\n",
    "\n",
    "\n",
    "np_phrase_section4 = np_full_phrase[nb_writen_bits:]\n",
    "rows_for_section = matrix_size - 17\n",
    "\n",
    "for c in range(3):\n",
    "    reversed_bits = ((np_phrase_section4[c*rows_for_section*2:(c+1)*rows_for_section*2] + 1) % 2)\n",
    "    descending_column = (c+1) % 2 != 0\n",
    "\n",
    "    if not descending_column :\n",
    "        flipped_matrix[8:8+rows_for_section, 15+c*2:15+(c+1)*2] = reversed_bits.reshape((rows_for_section, 2))\n",
    "    else : \n",
    "        flipped_matrix[8:8+rows_for_section, 15+c*2:15+(c+1)*2] = np.flip(reversed_bits.reshape((rows_for_section, 2)), 0)\n",
    "\n",
    "    nb_writen_bits += len(reversed_bits)\n",
    "\n",
    "show_matrix(matrix, \"Section 4 full\")\n",
    "\n"
   ]
  },
  {
   "cell_type": "markdown",
   "metadata": {},
   "source": [
    "## Data masking\n",
    "\n",
    "It's time to apply masks"
   ]
  },
  {
   "cell_type": "markdown",
   "metadata": {},
   "source": [
    "### Calculating the score"
   ]
  },
  {
   "cell_type": "code",
   "execution_count": 132,
   "metadata": {},
   "outputs": [],
   "source": [
    "score = 0\n",
    "\n",
    "# Rule 1 - Adding score point for every les of more than 5 same consecutive values.\n",
    "\n",
    "def get_score_from_rule1(matrix):\n",
    "    score = 0\n",
    "    matrix_size = matrix.shape[0]\n",
    "    for line in range(matrix_size):\n",
    "        position = 0\n",
    "        for _, iterations in itertools.groupby(matrix[line,:]):\n",
    "            nb_iter = len(list(iterations))\n",
    "            if nb_iter >= 5:\n",
    "                score += 3 + nb_iter-5\n",
    "            position += nb_iter\n",
    "\n",
    "    for column in range(matrix_size):\n",
    "        position = 0\n",
    "        for _, iterations in itertools.groupby(matrix[:,column]):\n",
    "            nb_iter = len(list(iterations))\n",
    "            if nb_iter >= 5:\n",
    "                score += 3 + nb_iter-5\n",
    "            position += nb_iter\n",
    "    return score\n",
    "\n",
    "# Rule 2 - Adding 3 to the score for every squares of same values\n",
    "\n",
    "def get_score_from_rule2(matrix):\n",
    "    # Counting white squares\n",
    "    nb_white_squares = np.count_nonzero(convolve2d(matrix,[[1,1],[1,1]], mode=\"same\") == 4)\n",
    "\n",
    "    # Counting black squares\n",
    "    negative_matrix = (matrix+1)%2\n",
    "    nb_black_squares = np.count_nonzero(convolve2d((negative_matrix+1)%2,[[1,1],[1,1]], mode=\"same\") == 4)\n",
    "\n",
    "    return (nb_white_squares + nb_black_squares)*3\n",
    "\n",
    "\n",
    "# Rule 3 - Adding 40 to the score for each pattern found\n",
    "\n",
    "def get_score_from_rule3(matrix):\n",
    "    matrix_size = matrix.shape[0]\n",
    "    pattern1_horizontal = np.array([1,1,1,1,0,1,0,0,0,1,0])\n",
    "    pattern1_vertical = pattern1_horizontal.T\n",
    "\n",
    "    pattern2_horizontal = np.array([0,1,0,0,0,1,0,1,1,1,1])\n",
    "    pattern2_vertical = pattern2_horizontal.T\n",
    "\n",
    "    nb_found_patterns = 0\n",
    "\n",
    "    for row in range(matrix_size):\n",
    "        for column in range(matrix_size-11):\n",
    "            if np.all(matrix[row, column:column+11] == pattern1_horizontal) or np.all(matrix[row, column:column+11] == pattern2_horizontal):\n",
    "                nb_found_patterns += 1\n",
    "\n",
    "    for column in range(matrix_size):\n",
    "        for row in range(matrix_size-11):\n",
    "            if np.all(matrix[row:row+11, column] == pattern1_vertical) or np.all(matrix[row:row+11, column] == pattern2_vertical):\n",
    "                nb_found_patterns += 1\n",
    "\n",
    "    return nb_found_patterns * 40\n",
    "\n",
    "\n",
    "# Rule 4 - Adding scores according to the ration of black and white squares\n",
    "\n",
    "def get_score_from_rule4(matrix):\n",
    "    negative_matrix = (matrix+1)%2\n",
    "    matrix_size = matrix.shape[0]\n",
    "\n",
    "    nb_black_pixels = np.count_nonzero(negative_matrix)\n",
    "    percentage_black_pixels = 100 * (nb_black_pixels / (matrix_size*matrix_size))\n",
    "\n",
    "    rest = percentage_black_pixels % 5\n",
    "    previous_percentage = percentage_black_pixels - rest\n",
    "    next_percentage = previous_percentage + 5\n",
    "\n",
    "    next_percentage_absolute_difference = abs(next_percentage - 50)\n",
    "    previous_percentage_absolute_difference = abs(previous_percentage - 50)\n",
    "\n",
    "    nb_penality = min(next_percentage_absolute_difference/5, previous_percentage_absolute_difference/5) * 10\n",
    "\n",
    "    return int(nb_penality) * 10\n",
    "\n",
    "# Finale step \n",
    "\n",
    "def get_score(matrix):\n",
    "    score = 0\n",
    "    score += get_score_from_rule1(matrix)\n",
    "    score += get_score_from_rule2(matrix)\n",
    "    score += get_score_from_rule3(matrix)\n",
    "    score += get_score_from_rule4(matrix)\n",
    "\n",
    "    score += 4\n",
    "\n",
    "    return score\n"
   ]
  },
  {
   "cell_type": "markdown",
   "metadata": {},
   "source": [
    "### Adding the format patterns\n",
    "\n",
    "To add the format pattenrs, I split the format pattern into 4 parts\n",
    "\n",
    "<img src=\"images/image.png\" alt=\"drawing\" width=\"300\"/>\n"
   ]
  },
  {
   "cell_type": "code",
   "execution_count": 133,
   "metadata": {},
   "outputs": [],
   "source": [
    "def add_format_string(matrix: np.ndarray, version:str, mask):\n",
    "    copy_matrix = matrix.copy()\n",
    "    matrix_size = matrix.shape[0]\n",
    "    format_string = []\n",
    "    for value in format_information_strings:\n",
    "        if value[\"ECC Level\"] == version.split(\"-\")[-1] and value[\"Mask Pattern\"] == mask:\n",
    "            format_string = value[\"Type Information Bits\"].copy()\n",
    "            break\n",
    "\n",
    "    format_string_colors = ((np.array(format_string) + 1) % 2).tolist()\n",
    "\n",
    "    reversed_format_string_colors = copy.deepcopy(format_string_colors)\n",
    "    reversed_format_string_colors.reverse()\n",
    "\n",
    "    # 1st\n",
    "    copy_matrix[matrix_size-7:, 8] = reversed_format_string_colors[-7:]\n",
    "\n",
    "    # 2nd\n",
    "    copy_matrix[8,0:6] = format_string_colors[0:6]\n",
    "\n",
    "    # 3rd\n",
    "    copy_matrix[8,7:9] = format_string_colors[6:8]\n",
    "    copy_matrix[7,8] = format_string_colors[8]\n",
    "\n",
    "    # 4rth\n",
    "    copy_matrix[0:6,8] = reversed_format_string_colors[:6]\n",
    "\n",
    "    # 5th\n",
    "    copy_matrix[8, matrix_size-8:] = format_string_colors[7:]\n",
    "    return copy_matrix"
   ]
  },
  {
   "cell_type": "markdown",
   "metadata": {},
   "source": [
    "### Applying masks"
   ]
  },
  {
   "cell_type": "code",
   "execution_count": 134,
   "metadata": {},
   "outputs": [
    {
     "data": {
      "image/png": "[encoded data removed]",
      "text/plain": [
       "<Figure size 1000x480 with 8 Axes>"
      ]
     },
     "metadata": {},
     "output_type": "display_data"
    }
   ],
   "source": [
    "masks = [\n",
    "    np.fromfunction(lambda row,column : (row+column)%2==0, (matrix_size, matrix_size), dtype=np.uint8),\n",
    "    np.fromfunction(lambda row,column : row%2==0, (matrix_size, matrix_size), dtype=np.uint8),\n",
    "    np.fromfunction(lambda row,column : column%3==0, (matrix_size, matrix_size), dtype=np.uint8),\n",
    "    np.fromfunction(lambda row,column : (row + column)%3==0, (matrix_size, matrix_size), dtype=np.uint8),\n",
    "    np.fromfunction(lambda row,column : (row // 2 + column // 3)%2==0, (matrix_size, matrix_size), dtype=np.uint8),\n",
    "    np.fromfunction(lambda row,column : (row*column)%2 + (row*column)%3==0, (matrix_size, matrix_size), dtype=np.uint8),\n",
    "    np.fromfunction(lambda row,column : ((row*column)%2 + (row*column)%3)%2==0, (matrix_size, matrix_size), dtype=np.uint8),\n",
    "    np.fromfunction(lambda row,column : ((row+column)%2 + (row*column)%3)%2==0, (matrix_size, matrix_size), dtype=np.uint8),\n",
    "]\n",
    "\n",
    "fig, axs = plt.subplots(2,4)\n",
    "fig.set_figwidth(10)\n",
    "fig.suptitle(\"All available masks\")\n",
    "for row in range(2):\n",
    "    for column in range(4):\n",
    "        masks[row*4+column] = masks[row*4+column] & reserved_areas_mask\n",
    "        axs[row, column].imshow(masks[row*4+column])\n",
    "        axs[row, column].axis(\"off\")\n",
    "        axs[row, column].set_title(f\"Mask {row*4+column}\")\n"
   ]
  },
  {
   "cell_type": "code",
   "execution_count": 135,
   "metadata": {},
   "outputs": [
    {
     "data": {
      "image/png": "[encoded data removed]",
      "text/plain": [
       "<Figure size 1000x480 with 8 Axes>"
      ]
     },
     "metadata": {},
     "output_type": "display_data"
    }
   ],
   "source": [
    "fig, axs = plt.subplots(2,4)\n",
    "fig.suptitle(\"All available masks\")\n",
    "fig.set_figwidth(10)\n",
    "\n",
    "matrices = []\n",
    "scores = []\n",
    "\n",
    "for row in range(2):\n",
    "    for column in range(4):\n",
    "        copy_matrix = matrix.copy()\n",
    "        copy_matrix = copy_matrix ^ masks[row*4+column]\n",
    "\n",
    "        copy_matrix = add_format_string(copy_matrix, version, row*4+column)\n",
    "\n",
    "        score = get_score(copy_matrix)\n",
    "        axs[row, column].imshow(copy_matrix)\n",
    "        axs[row, column].axis('off')\n",
    "        axs[row, column].set_title(f\"Mask {row*4+column}, score: {score}\")\n",
    "        \n",
    "        matrices.append(copy_matrix)\n",
    "        scores.append(score)\n",
    "\n"
   ]
  },
  {
   "cell_type": "code",
   "execution_count": 136,
   "metadata": {},
   "outputs": [
    {
     "name": "stdout",
     "output_type": "stream",
     "text": [
      "Choice is mask 3\n"
     ]
    },
    {
     "data": {
      "image/png": "[encoded data removed]",
      "text/plain": [
       "<Figure size 640x480 with 1 Axes>"
      ]
     },
     "metadata": {},
     "output_type": "display_data"
    }
   ],
   "source": [
    "best_mask_index = np.argmin(scores)\n",
    "matrix = matrices[best_mask_index]\n",
    "\n",
    "print(\"Choice is mask\", best_mask_index)\n",
    "\n",
    "show_matrix(matrix)"
   ]
  },
  {
   "cell_type": "markdown",
   "metadata": {},
   "source": [
    "## Final result"
   ]
  },
  {
   "cell_type": "code",
   "execution_count": 137,
   "metadata": {},
   "outputs": [
    {
     "data": {
      "image/png": "[encoded data removed]",
      "text/plain": [
       "<Figure size 640x480 with 1 Axes>"
      ]
     },
     "metadata": {},
     "output_type": "display_data"
    }
   ],
   "source": [
    "show_final_result(matrix)"
   ]
  }
 ],
 "metadata": {
  "kernelspec": {
   "display_name": "Python 3",
   "language": "python",
   "name": "python3"
  },
  "language_info": {
   "codemirror_mode": {
    "name": "ipython",
    "version": 3
   },
   "file_extension": ".py",
   "mimetype": "text/x-python",
   "name": "python",
   "nbconvert_exporter": "python",
   "pygments_lexer": "ipython3",
   "version": "3.10.12"
  }
 },
 "nbformat": 4,
 "nbformat_minor": 2
}
